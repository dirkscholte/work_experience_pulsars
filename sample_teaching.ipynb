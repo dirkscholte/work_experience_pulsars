{
 "cells": [
  {
   "cell_type": "markdown",
   "metadata": {},
   "source": [
    "# Sample Notebook"
   ]
  },
  {
   "cell_type": "markdown",
   "metadata": {},
   "source": [
    "## How IPython Notebooks work\n",
    "Notebooks are made up of cells. These cells can contain either markdown (text) or code (in this case, Python). In order to execute a cell, first click inside the cell, then press shift+enter. This cell is markdown. This means that when you execute it, the notebook will generate a block of neat looking text.\n",
    "\n",
    "Give it a try now (click here, press shift+enter)."
   ]
  },
  {
   "cell_type": "markdown",
   "metadata": {},
   "source": [
    "In code cells, if you do the same thing, the Python code in that cell is executed and any outputs (plots, values, etc.) are returned below the cell.\n",
    "\n",
    "For example:"
   ]
  },
  {
   "cell_type": "code",
   "execution_count": null,
   "metadata": {
    "collapsed": false,
    "scrolled": true
   },
   "outputs": [],
   "source": [
    "1+2"
   ]
  },
  {
   "cell_type": "markdown",
   "metadata": {},
   "source": [
    "## Learning objectives:\n",
    "- Basic understanding of uses of Python in science\n",
    "- Aim 2\n",
    "- Aim 3\n",
    "\n",
    "## Introduction\n",
    "- Links to websites/papers/articles etc.\n",
    "- different ways of approaching problem\n",
    "- objective of work\n",
    "\n",
    "Before we go any further, we can load the python modules we will need later:"
   ]
  },
  {
   "cell_type": "code",
   "execution_count": null,
   "metadata": {
    "collapsed": true
   },
   "outputs": [],
   "source": [
    "# all package loading here with explanations of each package\n",
    "\n",
    "# ipywidgets handles interactive widgets in notebook\n",
    "import ipywidgets as ipy\n",
    "\n",
    "# more functions for interactive widgets in notebook\n",
    "from IPython.display import display, clear_output\n",
    "\n",
    "# numpy allows quick array operations\n",
    "import numpy as np\n",
    "\n",
    "# pyplot has lots of useful plotting functions\n",
    "import matplotlib.pyplot as plt"
   ]
  },
  {
   "cell_type": "markdown",
   "metadata": {},
   "source": [
    "## First exercise\n",
    "Here we can discuss the theory behind what we're doing. In this case it's generating a test image using the formula:\n",
    "\n",
    "$(x-a)^m + (y-b)^m$\n",
    " \n",
    "The below code allows us to change parameters and generate a 2D plot"
   ]
  },
  {
   "cell_type": "code",
   "execution_count": null,
   "metadata": {
    "collapsed": false
   },
   "outputs": [],
   "source": [
    "# define some parameters\n",
    "a = 10\n",
    "b = 10\n",
    "m = 3\n",
    "# generate x and y arrays\n",
    "xx, yy = np.mgrid[:200, :200]\n",
    "\n",
    "# calculate circle image\n",
    "circle = (xx - a) ** m + (yy - b) ** m\n",
    "\n",
    "# plot the circle image\n",
    "plt.imshow(circle,'plasma')\n",
    "plt.title('This is a static example')\n",
    "plt.show()"
   ]
  },
  {
   "cell_type": "markdown",
   "metadata": {},
   "source": [
    "## Interactive example\n",
    "This version allows interaction through changing the slider values to alter the image"
   ]
  },
  {
   "cell_type": "code",
   "execution_count": null,
   "metadata": {
    "collapsed": false
   },
   "outputs": [],
   "source": [
    "# create a function which takes the a,b and m\n",
    "# and returns a circle\n",
    "\n",
    "def make_circle(a,b,m):\n",
    "    # generate x and y arrays\n",
    "    xx, yy = np.mgrid[:200, :200]\n",
    "    # calculate circle image and returns\n",
    "    return (xx - a) ** m + (yy - b) ** m\n",
    "\n",
    "# function to update chart\n",
    "\n",
    "def update_chart(a,b,m):\n",
    "    circle = make_circle(a,b,m)\n",
    "    # plot the circle image\n",
    "    plt.imshow(circle,'plasma')\n",
    "    plt.show()\n",
    "        \n",
    "ipy.interact(update_chart,a=(0,199),b=(0,199),m=(1,4))"
   ]
  },
  {
   "cell_type": "markdown",
   "metadata": {},
   "source": [
    "### Optional Extension:\n",
    "Can you create a new make_circle function which generates a different pattern? call it 'make_pattern' e.g."
   ]
  },
  {
   "cell_type": "code",
   "execution_count": null,
   "metadata": {
    "collapsed": true
   },
   "outputs": [],
   "source": [
    "def make_pattern(a,b,m):\n",
    "    # generate x and y arrays\n",
    "    xx, yy = np.mgrid[:200, :200]\n",
    "    # calculate circle image and returns\n",
    "    return # add a formula here"
   ]
  }
 ],
 "metadata": {
  "kernelspec": {
   "display_name": "Python 3",
   "language": "python",
   "name": "python3"
  },
  "language_info": {
   "codemirror_mode": {
    "name": "ipython",
    "version": 3
   },
   "file_extension": ".py",
   "mimetype": "text/x-python",
   "name": "python",
   "nbconvert_exporter": "python",
   "pygments_lexer": "ipython3",
   "version": "3.5.2"
  },
  "widgets": {
   "state": {
    "0da69ac6beb742d8ae379f2218b585fb": {
     "views": [
      {
       "cell_index": 9
      }
     ]
    }
   },
   "version": "1.2.0"
  }
 },
 "nbformat": 4,
 "nbformat_minor": 2
}
